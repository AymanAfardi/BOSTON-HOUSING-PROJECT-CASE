{
 "cells": [
  {
   "cell_type": "markdown",
   "id": "caa2bb8f-37a8-4418-b951-721526c67b43",
   "metadata": {},
   "source": [
    "\n",
    " <h1 style=\"text-align: center;\">BOSTON HOUSING PROJECT CASE</h1>\n",
    " <h4 style=\"text-align: center;\">Statistic Project</h4>"
   ]
  },
  {
   "cell_type": "markdown",
   "id": "80638bb9-78dd-4cbc-ad5d-a8751fe0115d",
   "metadata": {},
   "source": [
    "<hr>"
   ]
  },
  {
   "cell_type": "markdown",
   "id": "474a82d8-0530-458a-ada8-f2a98dc64910",
   "metadata": {},
   "source": [
    "## TABLE OF CONTENT :\n",
    "* [Data presentation](#first-bullet)\n",
    "* [Business Task](#second-bullet)\n",
    "* [Data Visualization](#third-bullet)\n",
    "* [Tests and Hypothesis](#forth-bullet)\n",
    "* [summary](#fifth-bullet)"
   ]
  },
  {
   "cell_type": "markdown",
   "id": "8cf3fcf6-1da8-43f5-82c4-5941fe0891bc",
   "metadata": {},
   "source": [
    "<hr>"
   ]
  },
  {
   "cell_type": "markdown",
   "id": "1b10734f-8d50-47e4-9a42-b048deaee9d5",
   "metadata": {},
   "source": [
    "<h2 class=\"anchor\" id=\"first-bullet\">Data Presentation </h2>"
   ]
  },
  {
   "cell_type": "markdown",
   "id": "5326f063-6046-4a01-92a4-79464c1b3310",
   "metadata": {},
   "source": [
    "The following describes the dataset variables:\n",
    "<pre>\n",
    "·      CRIM - per capita crime rate by town\n",
    "\n",
    "·      ZN - proportion of residential land zoned for lots over 25,000 sq.ft.\n",
    "\n",
    "·      INDUS - proportion of non-retail business acres per town.\n",
    "\n",
    "·      CHAS - Charles River dummy variable (1 if tract bounds river; 0 otherwise)\n",
    "\n",
    "·      NOX - nitric oxides concentration (parts per 10 million)\n",
    "\n",
    "·      RM - average number of rooms per dwelling\n",
    "\n",
    "·      AGE - proportion of owner-occupied units built prior to 1940\n",
    "\n",
    "·      DIS - weighted distances to five Boston employment centres\n",
    "\n",
    "·      RAD - index of accessibility to radial highways\n",
    "\n",
    "·      TAX - full-value property-tax rate per $10,000\n",
    "\n",
    "·      PTRATIO - pupil-teacher ratio by town\n",
    "\n",
    "·      LSTAT - % lower status of the population\n",
    "\n",
    "·      MEDV - Median value of owner-occupied homes in $1000's\n",
    "</pre>"
   ]
  },
  {
   "cell_type": "code",
   "execution_count": 31,
   "id": "4826b78e-e692-465f-adc4-5084a54d0d69",
   "metadata": {
    "hide_input": false,
    "tags": [
     "hide_output"
    ]
   },
   "outputs": [
    {
     "name": "stdout",
     "output_type": "stream",
     "text": [
      "Requirement already satisfied: pandas in c:\\users\\pc gaming\\appdata\\roaming\\python\\python313\\site-packages (2.2.3)\n",
      "Requirement already satisfied: numpy>=1.26.0 in c:\\users\\pc gaming\\appdata\\roaming\\python\\python313\\site-packages (from pandas) (2.2.4)\n",
      "Requirement already satisfied: python-dateutil>=2.8.2 in c:\\users\\pc gaming\\appdata\\roaming\\python\\python313\\site-packages (from pandas) (2.9.0.post0)\n",
      "Requirement already satisfied: pytz>=2020.1 in c:\\users\\pc gaming\\appdata\\roaming\\python\\python313\\site-packages (from pandas) (2025.2)\n",
      "Requirement already satisfied: tzdata>=2022.7 in c:\\users\\pc gaming\\appdata\\roaming\\python\\python313\\site-packages (from pandas) (2025.2)\n",
      "Requirement already satisfied: six>=1.5 in c:\\users\\pc gaming\\appdata\\roaming\\python\\python313\\site-packages (from python-dateutil>=2.8.2->pandas) (1.17.0)\n",
      "Note: you may need to restart the kernel to use updated packages.\n",
      "Requirement already satisfied: numpy in c:\\users\\pc gaming\\appdata\\roaming\\python\\python313\\site-packages (2.2.4)\n",
      "Note: you may need to restart the kernel to use updated packages.\n",
      "Requirement already satisfied: seaborn in c:\\users\\pc gaming\\appdata\\roaming\\python\\python313\\site-packages (0.13.2)\n",
      "Requirement already satisfied: numpy!=1.24.0,>=1.20 in c:\\users\\pc gaming\\appdata\\roaming\\python\\python313\\site-packages (from seaborn) (2.2.4)\n",
      "Requirement already satisfied: pandas>=1.2 in c:\\users\\pc gaming\\appdata\\roaming\\python\\python313\\site-packages (from seaborn) (2.2.3)\n",
      "Requirement already satisfied: matplotlib!=3.6.1,>=3.4 in c:\\users\\pc gaming\\appdata\\roaming\\python\\python313\\site-packages (from seaborn) (3.10.1)\n",
      "Requirement already satisfied: contourpy>=1.0.1 in c:\\users\\pc gaming\\appdata\\roaming\\python\\python313\\site-packages (from matplotlib!=3.6.1,>=3.4->seaborn) (1.3.2)\n",
      "Requirement already satisfied: cycler>=0.10 in c:\\users\\pc gaming\\appdata\\roaming\\python\\python313\\site-packages (from matplotlib!=3.6.1,>=3.4->seaborn) (0.12.1)\n",
      "Requirement already satisfied: fonttools>=4.22.0 in c:\\users\\pc gaming\\appdata\\roaming\\python\\python313\\site-packages (from matplotlib!=3.6.1,>=3.4->seaborn) (4.57.0)\n",
      "Requirement already satisfied: kiwisolver>=1.3.1 in c:\\users\\pc gaming\\appdata\\roaming\\python\\python313\\site-packages (from matplotlib!=3.6.1,>=3.4->seaborn) (1.4.8)\n",
      "Requirement already satisfied: packaging>=20.0 in c:\\users\\pc gaming\\appdata\\roaming\\python\\python313\\site-packages (from matplotlib!=3.6.1,>=3.4->seaborn) (24.2)\n",
      "Requirement already satisfied: pillow>=8 in c:\\users\\pc gaming\\appdata\\roaming\\python\\python313\\site-packages (from matplotlib!=3.6.1,>=3.4->seaborn) (11.2.1)\n",
      "Requirement already satisfied: pyparsing>=2.3.1 in c:\\users\\pc gaming\\appdata\\roaming\\python\\python313\\site-packages (from matplotlib!=3.6.1,>=3.4->seaborn) (3.2.3)\n",
      "Requirement already satisfied: python-dateutil>=2.7 in c:\\users\\pc gaming\\appdata\\roaming\\python\\python313\\site-packages (from matplotlib!=3.6.1,>=3.4->seaborn) (2.9.0.post0)\n",
      "Requirement already satisfied: pytz>=2020.1 in c:\\users\\pc gaming\\appdata\\roaming\\python\\python313\\site-packages (from pandas>=1.2->seaborn) (2025.2)\n",
      "Requirement already satisfied: tzdata>=2022.7 in c:\\users\\pc gaming\\appdata\\roaming\\python\\python313\\site-packages (from pandas>=1.2->seaborn) (2025.2)\n",
      "Requirement already satisfied: six>=1.5 in c:\\users\\pc gaming\\appdata\\roaming\\python\\python313\\site-packages (from python-dateutil>=2.7->matplotlib!=3.6.1,>=3.4->seaborn) (1.17.0)\n",
      "Note: you may need to restart the kernel to use updated packages.\n",
      "Requirement already satisfied: matplotlib in c:\\users\\pc gaming\\appdata\\roaming\\python\\python313\\site-packages (3.10.1)\n",
      "Requirement already satisfied: contourpy>=1.0.1 in c:\\users\\pc gaming\\appdata\\roaming\\python\\python313\\site-packages (from matplotlib) (1.3.2)\n",
      "Requirement already satisfied: cycler>=0.10 in c:\\users\\pc gaming\\appdata\\roaming\\python\\python313\\site-packages (from matplotlib) (0.12.1)\n",
      "Requirement already satisfied: fonttools>=4.22.0 in c:\\users\\pc gaming\\appdata\\roaming\\python\\python313\\site-packages (from matplotlib) (4.57.0)\n",
      "Requirement already satisfied: kiwisolver>=1.3.1 in c:\\users\\pc gaming\\appdata\\roaming\\python\\python313\\site-packages (from matplotlib) (1.4.8)\n",
      "Requirement already satisfied: numpy>=1.23 in c:\\users\\pc gaming\\appdata\\roaming\\python\\python313\\site-packages (from matplotlib) (2.2.4)\n",
      "Requirement already satisfied: packaging>=20.0 in c:\\users\\pc gaming\\appdata\\roaming\\python\\python313\\site-packages (from matplotlib) (24.2)\n",
      "Requirement already satisfied: pillow>=8 in c:\\users\\pc gaming\\appdata\\roaming\\python\\python313\\site-packages (from matplotlib) (11.2.1)\n",
      "Requirement already satisfied: pyparsing>=2.3.1 in c:\\users\\pc gaming\\appdata\\roaming\\python\\python313\\site-packages (from matplotlib) (3.2.3)\n",
      "Requirement already satisfied: python-dateutil>=2.7 in c:\\users\\pc gaming\\appdata\\roaming\\python\\python313\\site-packages (from matplotlib) (2.9.0.post0)\n",
      "Requirement already satisfied: six>=1.5 in c:\\users\\pc gaming\\appdata\\roaming\\python\\python313\\site-packages (from python-dateutil>=2.7->matplotlib) (1.17.0)\n",
      "Note: you may need to restart the kernel to use updated packages.\n",
      "Requirement already satisfied: scipy in c:\\users\\pc gaming\\appdata\\roaming\\python\\python313\\site-packages (1.15.2)\n",
      "Requirement already satisfied: numpy<2.5,>=1.23.5 in c:\\users\\pc gaming\\appdata\\roaming\\python\\python313\\site-packages (from scipy) (2.2.4)\n",
      "Note: you may need to restart the kernel to use updated packages.\n",
      "Requirement already satisfied: statsmodels in c:\\users\\pc gaming\\.conda\\envs\\environment2\\lib\\site-packages (0.14.5)\n",
      "Requirement already satisfied: numpy<3,>=1.22.3 in c:\\users\\pc gaming\\appdata\\roaming\\python\\python313\\site-packages (from statsmodels) (2.2.4)\n",
      "Requirement already satisfied: scipy!=1.9.2,>=1.8 in c:\\users\\pc gaming\\appdata\\roaming\\python\\python313\\site-packages (from statsmodels) (1.15.2)\n",
      "Requirement already satisfied: pandas!=2.1.0,>=1.4 in c:\\users\\pc gaming\\appdata\\roaming\\python\\python313\\site-packages (from statsmodels) (2.2.3)\n",
      "Requirement already satisfied: patsy>=0.5.6 in c:\\users\\pc gaming\\.conda\\envs\\environment2\\lib\\site-packages (from statsmodels) (1.0.1)\n",
      "Requirement already satisfied: packaging>=21.3 in c:\\users\\pc gaming\\appdata\\roaming\\python\\python313\\site-packages (from statsmodels) (24.2)\n",
      "Requirement already satisfied: python-dateutil>=2.8.2 in c:\\users\\pc gaming\\appdata\\roaming\\python\\python313\\site-packages (from pandas!=2.1.0,>=1.4->statsmodels) (2.9.0.post0)\n",
      "Requirement already satisfied: pytz>=2020.1 in c:\\users\\pc gaming\\appdata\\roaming\\python\\python313\\site-packages (from pandas!=2.1.0,>=1.4->statsmodels) (2025.2)\n",
      "Requirement already satisfied: tzdata>=2022.7 in c:\\users\\pc gaming\\appdata\\roaming\\python\\python313\\site-packages (from pandas!=2.1.0,>=1.4->statsmodels) (2025.2)\n",
      "Requirement already satisfied: six>=1.5 in c:\\users\\pc gaming\\appdata\\roaming\\python\\python313\\site-packages (from python-dateutil>=2.8.2->pandas!=2.1.0,>=1.4->statsmodels) (1.17.0)\n",
      "Note: you may need to restart the kernel to use updated packages.\n"
     ]
    }
   ],
   "source": [
    "# installing packages...\n",
    "%pip install pandas\n",
    "%pip install numpy\n",
    "%pip install seaborn\n",
    "%pip install matplotlib\n",
    "%pip install scipy\n",
    "%pip install statsmodels\n",
    "%matplotlib inline"
   ]
  },
  {
   "cell_type": "code",
   "execution_count": 32,
   "id": "d095479e-2622-4ab9-b764-6b9afd515fc1",
   "metadata": {},
   "outputs": [],
   "source": [
    "#importing liraries to our environment\n",
    "import pandas as pd\n",
    "import seaborn as sns\n",
    "import matplotlib.pyplot as pyplot\n",
    "import scipy.stats\n",
    "import statsmodels.api as sm\n",
    "from statsmodels.formula.api import ols"
   ]
  },
  {
   "cell_type": "code",
   "execution_count": 33,
   "id": "cf89f082-6ad8-4198-94f3-52d5e693bc9f",
   "metadata": {},
   "outputs": [],
   "source": [
    "#importing and reading the dataset \n",
    "url = 'https://cf-courses-data.s3.us.cloud-object-storage.appdomain.cloud/IBMDeveloperSkillsNetwork-ST0151EN-SkillsNetwork/labs/boston_housing.csv'\n",
    "boston_df = pd.read_csv(url)"
   ]
  },
  {
   "cell_type": "markdown",
   "id": "ee8cd703-260a-40dc-aff9-bb0e3263a948",
   "metadata": {},
   "source": [
    "<h2 class=\"anchor\" id=\"second-bullet\"><a>Business Task</a></h2>"
   ]
  },
  {
   "cell_type": "markdown",
   "id": "a1aeb0ee-93ff-487b-928d-50dd846c2699",
   "metadata": {},
   "source": [
    "As a Data Scientist at the Boston Housing Agency, I have conducted a comprehensive statistical analysis using historical housing data sourced from the U.S. Census Service. This report presents key insights to support upper management in making data-driven decisions regarding urban development and housing policy. \n",
    "The analysis addresses four core questions: \n",
    "1. whether proximity to the Charles River significantly affects median home values.\n",
    "2. whether the age distribution of housing stock (specifically, the proportion of units built before 1940) influences property values.\n",
    "3. whether there is a statistically significant relationship between industrial land use and environmental quality (measured via nitric oxide concentrations).\n",
    "4. how the distance to employment centers impacts housing prices.\n",
    "Each question was explored using appropriate statistical tests including t-tests, ANOVA, correlation analysis, and linear regression, with results interpreted in the context of urban planning and socioeconomic factors.\n",
    "\n",
    "To enhance interpretability for non-technical stakeholders, I have supplemented the statistical findings with clear visualizations such as boxplots, scatter plots, and regression lines. These charts illustrate distributional differences, trends, and relationships across variables of interest. For example, boxplots comparing homes near and far from the Charles River reveal a notable difference in median values, while ANOVA results show significant variation in home prices across housing age categories. A scatter plot of nitric oxide concentration versus industrial acreage demonstrates a strong positive correlation, suggesting environmental implications tied to zoning. Lastly, the regression analysis quantifies the economic impact of location, showing that increased distance from employment centers is associated with higher property values. These insights will help guide strategic decisions on zoning, infrastructure investment, and environmental regulation."
   ]
  },
  {
   "cell_type": "markdown",
   "id": "cd019be2-7f15-49e0-9024-438ce6a627a2",
   "metadata": {},
   "source": [
    "### Inforamtion about the data"
   ]
  },
  {
   "cell_type": "markdown",
   "id": "ace24f23-b90a-43aa-8882-8fc18484314d",
   "metadata": {},
   "source": [
    "The following command .info() is performed to see if there's any data cleaning and transformation needed, in this case the data is clean."
   ]
  },
  {
   "cell_type": "code",
   "execution_count": 34,
   "id": "79e4f274-65a6-4784-8307-14a673b1eda5",
   "metadata": {},
   "outputs": [
    {
     "name": "stdout",
     "output_type": "stream",
     "text": [
      "<class 'pandas.core.frame.DataFrame'>\n",
      "RangeIndex: 506 entries, 0 to 505\n",
      "Data columns (total 14 columns):\n",
      " #   Column      Non-Null Count  Dtype  \n",
      "---  ------      --------------  -----  \n",
      " 0   Unnamed: 0  506 non-null    int64  \n",
      " 1   CRIM        506 non-null    float64\n",
      " 2   ZN          506 non-null    float64\n",
      " 3   INDUS       506 non-null    float64\n",
      " 4   CHAS        506 non-null    float64\n",
      " 5   NOX         506 non-null    float64\n",
      " 6   RM          506 non-null    float64\n",
      " 7   AGE         506 non-null    float64\n",
      " 8   DIS         506 non-null    float64\n",
      " 9   RAD         506 non-null    float64\n",
      " 10  TAX         506 non-null    float64\n",
      " 11  PTRATIO     506 non-null    float64\n",
      " 12  LSTAT       506 non-null    float64\n",
      " 13  MEDV        506 non-null    float64\n",
      "dtypes: float64(13), int64(1)\n",
      "memory usage: 55.5 KB\n"
     ]
    }
   ],
   "source": [
    "\n",
    "boston_df.info()"
   ]
  },
  {
   "cell_type": "markdown",
   "id": "03cfd2bc-9bb5-423e-be6e-7e1e542fea2b",
   "metadata": {},
   "source": [
    "The following table allow us to see measures of dispresion such as standard deviation, range, quartiles and central tendency like the mean."
   ]
  },
  {
   "cell_type": "code",
   "execution_count": 35,
   "id": "ab706e7f-720f-4881-8e2a-4721b38687fa",
   "metadata": {},
   "outputs": [
    {
     "data": {
      "text/html": [
       "<div>\n",
       "<style scoped>\n",
       "    .dataframe tbody tr th:only-of-type {\n",
       "        vertical-align: middle;\n",
       "    }\n",
       "\n",
       "    .dataframe tbody tr th {\n",
       "        vertical-align: top;\n",
       "    }\n",
       "\n",
       "    .dataframe thead th {\n",
       "        text-align: right;\n",
       "    }\n",
       "</style>\n",
       "<table border=\"1\" class=\"dataframe\">\n",
       "  <thead>\n",
       "    <tr style=\"text-align: right;\">\n",
       "      <th></th>\n",
       "      <th>Unnamed: 0</th>\n",
       "      <th>CRIM</th>\n",
       "      <th>ZN</th>\n",
       "      <th>INDUS</th>\n",
       "      <th>CHAS</th>\n",
       "      <th>NOX</th>\n",
       "      <th>RM</th>\n",
       "      <th>AGE</th>\n",
       "      <th>DIS</th>\n",
       "      <th>RAD</th>\n",
       "      <th>TAX</th>\n",
       "      <th>PTRATIO</th>\n",
       "      <th>LSTAT</th>\n",
       "      <th>MEDV</th>\n",
       "    </tr>\n",
       "  </thead>\n",
       "  <tbody>\n",
       "    <tr>\n",
       "      <th>count</th>\n",
       "      <td>506.000000</td>\n",
       "      <td>506.000000</td>\n",
       "      <td>506.000000</td>\n",
       "      <td>506.000000</td>\n",
       "      <td>506.000000</td>\n",
       "      <td>506.000000</td>\n",
       "      <td>506.000000</td>\n",
       "      <td>506.000000</td>\n",
       "      <td>506.000000</td>\n",
       "      <td>506.000000</td>\n",
       "      <td>506.000000</td>\n",
       "      <td>506.000000</td>\n",
       "      <td>506.000000</td>\n",
       "      <td>506.000000</td>\n",
       "    </tr>\n",
       "    <tr>\n",
       "      <th>mean</th>\n",
       "      <td>252.500000</td>\n",
       "      <td>3.613524</td>\n",
       "      <td>11.363636</td>\n",
       "      <td>11.136779</td>\n",
       "      <td>0.069170</td>\n",
       "      <td>0.554695</td>\n",
       "      <td>6.284634</td>\n",
       "      <td>68.574901</td>\n",
       "      <td>3.795043</td>\n",
       "      <td>9.549407</td>\n",
       "      <td>408.237154</td>\n",
       "      <td>18.455534</td>\n",
       "      <td>12.653063</td>\n",
       "      <td>22.532806</td>\n",
       "    </tr>\n",
       "    <tr>\n",
       "      <th>std</th>\n",
       "      <td>146.213884</td>\n",
       "      <td>8.601545</td>\n",
       "      <td>23.322453</td>\n",
       "      <td>6.860353</td>\n",
       "      <td>0.253994</td>\n",
       "      <td>0.115878</td>\n",
       "      <td>0.702617</td>\n",
       "      <td>28.148861</td>\n",
       "      <td>2.105710</td>\n",
       "      <td>8.707259</td>\n",
       "      <td>168.537116</td>\n",
       "      <td>2.164946</td>\n",
       "      <td>7.141062</td>\n",
       "      <td>9.197104</td>\n",
       "    </tr>\n",
       "    <tr>\n",
       "      <th>min</th>\n",
       "      <td>0.000000</td>\n",
       "      <td>0.006320</td>\n",
       "      <td>0.000000</td>\n",
       "      <td>0.460000</td>\n",
       "      <td>0.000000</td>\n",
       "      <td>0.385000</td>\n",
       "      <td>3.561000</td>\n",
       "      <td>2.900000</td>\n",
       "      <td>1.129600</td>\n",
       "      <td>1.000000</td>\n",
       "      <td>187.000000</td>\n",
       "      <td>12.600000</td>\n",
       "      <td>1.730000</td>\n",
       "      <td>5.000000</td>\n",
       "    </tr>\n",
       "    <tr>\n",
       "      <th>25%</th>\n",
       "      <td>126.250000</td>\n",
       "      <td>0.082045</td>\n",
       "      <td>0.000000</td>\n",
       "      <td>5.190000</td>\n",
       "      <td>0.000000</td>\n",
       "      <td>0.449000</td>\n",
       "      <td>5.885500</td>\n",
       "      <td>45.025000</td>\n",
       "      <td>2.100175</td>\n",
       "      <td>4.000000</td>\n",
       "      <td>279.000000</td>\n",
       "      <td>17.400000</td>\n",
       "      <td>6.950000</td>\n",
       "      <td>17.025000</td>\n",
       "    </tr>\n",
       "    <tr>\n",
       "      <th>50%</th>\n",
       "      <td>252.500000</td>\n",
       "      <td>0.256510</td>\n",
       "      <td>0.000000</td>\n",
       "      <td>9.690000</td>\n",
       "      <td>0.000000</td>\n",
       "      <td>0.538000</td>\n",
       "      <td>6.208500</td>\n",
       "      <td>77.500000</td>\n",
       "      <td>3.207450</td>\n",
       "      <td>5.000000</td>\n",
       "      <td>330.000000</td>\n",
       "      <td>19.050000</td>\n",
       "      <td>11.360000</td>\n",
       "      <td>21.200000</td>\n",
       "    </tr>\n",
       "    <tr>\n",
       "      <th>75%</th>\n",
       "      <td>378.750000</td>\n",
       "      <td>3.677083</td>\n",
       "      <td>12.500000</td>\n",
       "      <td>18.100000</td>\n",
       "      <td>0.000000</td>\n",
       "      <td>0.624000</td>\n",
       "      <td>6.623500</td>\n",
       "      <td>94.075000</td>\n",
       "      <td>5.188425</td>\n",
       "      <td>24.000000</td>\n",
       "      <td>666.000000</td>\n",
       "      <td>20.200000</td>\n",
       "      <td>16.955000</td>\n",
       "      <td>25.000000</td>\n",
       "    </tr>\n",
       "    <tr>\n",
       "      <th>max</th>\n",
       "      <td>505.000000</td>\n",
       "      <td>88.976200</td>\n",
       "      <td>100.000000</td>\n",
       "      <td>27.740000</td>\n",
       "      <td>1.000000</td>\n",
       "      <td>0.871000</td>\n",
       "      <td>8.780000</td>\n",
       "      <td>100.000000</td>\n",
       "      <td>12.126500</td>\n",
       "      <td>24.000000</td>\n",
       "      <td>711.000000</td>\n",
       "      <td>22.000000</td>\n",
       "      <td>37.970000</td>\n",
       "      <td>50.000000</td>\n",
       "    </tr>\n",
       "  </tbody>\n",
       "</table>\n",
       "</div>"
      ],
      "text/plain": [
       "       Unnamed: 0        CRIM          ZN       INDUS        CHAS         NOX  \\\n",
       "count  506.000000  506.000000  506.000000  506.000000  506.000000  506.000000   \n",
       "mean   252.500000    3.613524   11.363636   11.136779    0.069170    0.554695   \n",
       "std    146.213884    8.601545   23.322453    6.860353    0.253994    0.115878   \n",
       "min      0.000000    0.006320    0.000000    0.460000    0.000000    0.385000   \n",
       "25%    126.250000    0.082045    0.000000    5.190000    0.000000    0.449000   \n",
       "50%    252.500000    0.256510    0.000000    9.690000    0.000000    0.538000   \n",
       "75%    378.750000    3.677083   12.500000   18.100000    0.000000    0.624000   \n",
       "max    505.000000   88.976200  100.000000   27.740000    1.000000    0.871000   \n",
       "\n",
       "               RM         AGE         DIS         RAD         TAX     PTRATIO  \\\n",
       "count  506.000000  506.000000  506.000000  506.000000  506.000000  506.000000   \n",
       "mean     6.284634   68.574901    3.795043    9.549407  408.237154   18.455534   \n",
       "std      0.702617   28.148861    2.105710    8.707259  168.537116    2.164946   \n",
       "min      3.561000    2.900000    1.129600    1.000000  187.000000   12.600000   \n",
       "25%      5.885500   45.025000    2.100175    4.000000  279.000000   17.400000   \n",
       "50%      6.208500   77.500000    3.207450    5.000000  330.000000   19.050000   \n",
       "75%      6.623500   94.075000    5.188425   24.000000  666.000000   20.200000   \n",
       "max      8.780000  100.000000   12.126500   24.000000  711.000000   22.000000   \n",
       "\n",
       "            LSTAT        MEDV  \n",
       "count  506.000000  506.000000  \n",
       "mean    12.653063   22.532806  \n",
       "std      7.141062    9.197104  \n",
       "min      1.730000    5.000000  \n",
       "25%      6.950000   17.025000  \n",
       "50%     11.360000   21.200000  \n",
       "75%     16.955000   25.000000  \n",
       "max     37.970000   50.000000  "
      ]
     },
     "execution_count": 35,
     "metadata": {},
     "output_type": "execute_result"
    }
   ],
   "source": [
    "boston_df.describe()"
   ]
  },
  {
   "cell_type": "markdown",
   "id": "64f99896-9086-4f37-803d-eb305d813f71",
   "metadata": {},
   "source": [
    "<h2 class=\"anchor\" id=\"third-bullet\"><a>Data Visualizations</a></h2>"
   ]
  },
  {
   "cell_type": "markdown",
   "id": "9a099b1d-8df6-4652-a0a3-590f835a391b",
   "metadata": {},
   "source": [
    "### Median value of owner-occupied homes in 1000$"
   ]
  },
  {
   "cell_type": "code",
   "execution_count": 36,
   "id": "fc57eed8-5a29-402b-b86d-940f56f433a4",
   "metadata": {
    "hide_input": false
   },
   "outputs": [
    {
     "data": {
      "text/plain": [
       "Text(0.5, 0, 'Median value of owner-occupied homes')"
      ]
     },
     "execution_count": 36,
     "metadata": {},
     "output_type": "execute_result"
    },
    {
     "data": {
      "image/png": "[encoded data removed]",
      "text/plain": [
       "<Figure size 640x480 with 1 Axes>"
      ]
     },
     "metadata": {},
     "output_type": "display_data"
    }
   ],
   "source": [
    "\n",
    "Boxplot01 = sns.boxplot(x ='MEDV',\n",
    "                        color = 'royalblue',\n",
    "                        data=boston_df)\n",
    "Boxplot01.set_title('Boxplot of Median value of owner-occupied homes (in 1000$)')\n",
    "Boxplot01.set_xlabel('Median value of owner-occupied homes')\n"
   ]
  },
  {
   "cell_type": "code",
   "execution_count": 37,
   "id": "d10cea8c-d021-4dc5-83e1-2accce003d9d",
   "metadata": {
    "hide_input": true
   },
   "outputs": [
    {
     "data": {
      "text/html": [
       "<div>\n",
       "<style scoped>\n",
       "    .dataframe tbody tr th:only-of-type {\n",
       "        vertical-align: middle;\n",
       "    }\n",
       "\n",
       "    .dataframe tbody tr th {\n",
       "        vertical-align: top;\n",
       "    }\n",
       "\n",
       "    .dataframe thead th {\n",
       "        text-align: right;\n",
       "    }\n",
       "</style>\n",
       "<table border=\"1\" class=\"dataframe\">\n",
       "  <thead>\n",
       "    <tr style=\"text-align: right;\">\n",
       "      <th></th>\n",
       "      <th>MEDV</th>\n",
       "    </tr>\n",
       "  </thead>\n",
       "  <tbody>\n",
       "    <tr>\n",
       "      <th>count</th>\n",
       "      <td>506.000000</td>\n",
       "    </tr>\n",
       "    <tr>\n",
       "      <th>mean</th>\n",
       "      <td>22.532806</td>\n",
       "    </tr>\n",
       "    <tr>\n",
       "      <th>std</th>\n",
       "      <td>9.197104</td>\n",
       "    </tr>\n",
       "    <tr>\n",
       "      <th>min</th>\n",
       "      <td>5.000000</td>\n",
       "    </tr>\n",
       "    <tr>\n",
       "      <th>25%</th>\n",
       "      <td>17.025000</td>\n",
       "    </tr>\n",
       "    <tr>\n",
       "      <th>50%</th>\n",
       "      <td>21.200000</td>\n",
       "    </tr>\n",
       "    <tr>\n",
       "      <th>75%</th>\n",
       "      <td>25.000000</td>\n",
       "    </tr>\n",
       "    <tr>\n",
       "      <th>max</th>\n",
       "      <td>50.000000</td>\n",
       "    </tr>\n",
       "  </tbody>\n",
       "</table>\n",
       "</div>"
      ],
      "text/plain": [
       "             MEDV\n",
       "count  506.000000\n",
       "mean    22.532806\n",
       "std      9.197104\n",
       "min      5.000000\n",
       "25%     17.025000\n",
       "50%     21.200000\n",
       "75%     25.000000\n",
       "max     50.000000"
      ]
     },
     "execution_count": 37,
     "metadata": {},
     "output_type": "execute_result"
    }
   ],
   "source": [
    "table01 = boston_df[['MEDV']].describe()\n",
    "table01"
   ]
  },
  {
   "cell_type": "markdown",
   "id": "c707e2eb-79fa-4856-9dd1-d55880b01d63",
   "metadata": {},
   "source": [
    "- Boxplot01 helps to understand the variable 'Median value of owner-occupied homes in 1000$', as the table shows the minimum value is **5** while the maximum is **50**, with a mean of 22.53 and a standard deviation of 9.20 ."
   ]
  },
  {
   "cell_type": "markdown",
   "id": "8ea3296f-bfb4-4df8-b0e0-0c5a46200f23",
   "metadata": {},
   "source": [
    "### Barplot of tract borders or not in the Charles river"
   ]
  },
  {
   "cell_type": "code",
   "execution_count": 38,
   "id": "e0f9f435",
   "metadata": {
    "hide_input": true
   },
   "outputs": [
    {
     "data": {
      "image/png": "[encoded data removed]",
      "text/plain": [
       "<Figure size 800x600 with 1 Axes>"
      ]
     },
     "metadata": {},
     "output_type": "display_data"
    }
   ],
   "source": [
    "\n",
    "# Replace 0 with 'yes' and 1 with 'no' in CHAS column\n",
    "boston_df['CHAS'] = boston_df['CHAS'].replace({0: 'yes', 1: 'no'})\n",
    "\n",
    "# Create the bar plot\n",
    "pyplot.figure(figsize=(8, 6))\n",
    "barplot = sns.countplot(x='CHAS', color='royalblue', data=boston_df)\n",
    "\n",
    "# Add title and subtitle\n",
    "pyplot.title('Bar plot of Charles River tract bounds', fontsize=14)\n",
    "pyplot.text(0.5, max(boston_df['CHAS'].value_counts()) + 10,\n",
    "         'tract bounds is denoted yes, otherwise no',\n",
    "         ha='center', va='center', fontsize=10, color='gray')\n",
    "\n",
    "# Label x-axis\n",
    "pyplot.xlabel('CHAS')\n",
    "\n",
    "# Show the plot\n",
    "pyplot.tight_layout()\n",
    "pyplot.show()"
   ]
  },
  {
   "cell_type": "code",
   "execution_count": 39,
   "id": "c101a8df-0f36-4bd3-ad10-ca0c4e68c752",
   "metadata": {
    "hide_input": true
   },
   "outputs": [
    {
     "data": {
      "text/html": [
       "<div>\n",
       "<style scoped>\n",
       "    .dataframe tbody tr th:only-of-type {\n",
       "        vertical-align: middle;\n",
       "    }\n",
       "\n",
       "    .dataframe tbody tr th {\n",
       "        vertical-align: top;\n",
       "    }\n",
       "\n",
       "    .dataframe thead th {\n",
       "        text-align: right;\n",
       "    }\n",
       "</style>\n",
       "<table border=\"1\" class=\"dataframe\">\n",
       "  <thead>\n",
       "    <tr style=\"text-align: right;\">\n",
       "      <th></th>\n",
       "      <th>count</th>\n",
       "    </tr>\n",
       "    <tr>\n",
       "      <th>CHAS</th>\n",
       "      <th></th>\n",
       "    </tr>\n",
       "  </thead>\n",
       "  <tbody>\n",
       "    <tr>\n",
       "      <th>yes</th>\n",
       "      <td>471</td>\n",
       "    </tr>\n",
       "    <tr>\n",
       "      <th>no</th>\n",
       "      <td>35</td>\n",
       "    </tr>\n",
       "  </tbody>\n",
       "</table>\n",
       "</div>"
      ],
      "text/plain": [
       "      count\n",
       "CHAS       \n",
       "yes     471\n",
       "no       35"
      ]
     },
     "execution_count": 39,
     "metadata": {},
     "output_type": "execute_result"
    }
   ],
   "source": [
    "pd.DataFrame(boston_df['CHAS'].value_counts())"
   ]
  },
  {
   "cell_type": "markdown",
   "id": "58b122ed-7d31-410d-a174-299f98823cc7",
   "metadata": {},
   "source": [
    "- the Barplot shows most of houses doesn't bound to Charles river with 471 house, and 25 house borders the river."
   ]
  },
  {
   "cell_type": "markdown",
   "id": "015a8337-8e39-457d-a688-82be025e6b1a",
   "metadata": {},
   "source": [
    "### Plot 3 : Boxplot of Median value of owner-occupied homes with Age"
   ]
  },
  {
   "cell_type": "markdown",
   "id": "ab4d2048-ac53-4c53-aab4-5a3584e2e235",
   "metadata": {},
   "source": [
    "to analyse the distribution of median value and the porportion of owner occupied units, a dummy vaiable was created of AGE :\n",
    "- 35 years and younger\n",
    "- Between 35 years and 70 years\n",
    "- 70 years and older"
   ]
  },
  {
   "cell_type": "code",
   "execution_count": 40,
   "id": "fa126af6-0f46-4dbf-8815-d34a3f5eed2f",
   "metadata": {},
   "outputs": [
    {
     "data": {
      "text/html": [
       "<div>\n",
       "<style scoped>\n",
       "    .dataframe tbody tr th:only-of-type {\n",
       "        vertical-align: middle;\n",
       "    }\n",
       "\n",
       "    .dataframe tbody tr th {\n",
       "        vertical-align: top;\n",
       "    }\n",
       "\n",
       "    .dataframe thead th {\n",
       "        text-align: right;\n",
       "    }\n",
       "</style>\n",
       "<table border=\"1\" class=\"dataframe\">\n",
       "  <thead>\n",
       "    <tr style=\"text-align: right;\">\n",
       "      <th></th>\n",
       "      <th>Unnamed: 0</th>\n",
       "      <th>CRIM</th>\n",
       "      <th>ZN</th>\n",
       "      <th>INDUS</th>\n",
       "      <th>CHAS</th>\n",
       "      <th>NOX</th>\n",
       "      <th>RM</th>\n",
       "      <th>AGE</th>\n",
       "      <th>DIS</th>\n",
       "      <th>RAD</th>\n",
       "      <th>TAX</th>\n",
       "      <th>PTRATIO</th>\n",
       "      <th>LSTAT</th>\n",
       "      <th>MEDV</th>\n",
       "      <th>age_group</th>\n",
       "    </tr>\n",
       "  </thead>\n",
       "  <tbody>\n",
       "    <tr>\n",
       "      <th>0</th>\n",
       "      <td>0</td>\n",
       "      <td>0.00632</td>\n",
       "      <td>18.0</td>\n",
       "      <td>2.31</td>\n",
       "      <td>yes</td>\n",
       "      <td>0.538</td>\n",
       "      <td>6.575</td>\n",
       "      <td>65.2</td>\n",
       "      <td>4.0900</td>\n",
       "      <td>1.0</td>\n",
       "      <td>296.0</td>\n",
       "      <td>15.3</td>\n",
       "      <td>4.98</td>\n",
       "      <td>24.0</td>\n",
       "      <td>between 35 and 70</td>\n",
       "    </tr>\n",
       "    <tr>\n",
       "      <th>1</th>\n",
       "      <td>1</td>\n",
       "      <td>0.02731</td>\n",
       "      <td>0.0</td>\n",
       "      <td>7.07</td>\n",
       "      <td>yes</td>\n",
       "      <td>0.469</td>\n",
       "      <td>6.421</td>\n",
       "      <td>78.9</td>\n",
       "      <td>4.9671</td>\n",
       "      <td>2.0</td>\n",
       "      <td>242.0</td>\n",
       "      <td>17.8</td>\n",
       "      <td>9.14</td>\n",
       "      <td>21.6</td>\n",
       "      <td>70 and older</td>\n",
       "    </tr>\n",
       "    <tr>\n",
       "      <th>2</th>\n",
       "      <td>2</td>\n",
       "      <td>0.02729</td>\n",
       "      <td>0.0</td>\n",
       "      <td>7.07</td>\n",
       "      <td>yes</td>\n",
       "      <td>0.469</td>\n",
       "      <td>7.185</td>\n",
       "      <td>61.1</td>\n",
       "      <td>4.9671</td>\n",
       "      <td>2.0</td>\n",
       "      <td>242.0</td>\n",
       "      <td>17.8</td>\n",
       "      <td>4.03</td>\n",
       "      <td>34.7</td>\n",
       "      <td>between 35 and 70</td>\n",
       "    </tr>\n",
       "    <tr>\n",
       "      <th>3</th>\n",
       "      <td>3</td>\n",
       "      <td>0.03237</td>\n",
       "      <td>0.0</td>\n",
       "      <td>2.18</td>\n",
       "      <td>yes</td>\n",
       "      <td>0.458</td>\n",
       "      <td>6.998</td>\n",
       "      <td>45.8</td>\n",
       "      <td>6.0622</td>\n",
       "      <td>3.0</td>\n",
       "      <td>222.0</td>\n",
       "      <td>18.7</td>\n",
       "      <td>2.94</td>\n",
       "      <td>33.4</td>\n",
       "      <td>between 35 and 70</td>\n",
       "    </tr>\n",
       "    <tr>\n",
       "      <th>4</th>\n",
       "      <td>4</td>\n",
       "      <td>0.06905</td>\n",
       "      <td>0.0</td>\n",
       "      <td>2.18</td>\n",
       "      <td>yes</td>\n",
       "      <td>0.458</td>\n",
       "      <td>7.147</td>\n",
       "      <td>54.2</td>\n",
       "      <td>6.0622</td>\n",
       "      <td>3.0</td>\n",
       "      <td>222.0</td>\n",
       "      <td>18.7</td>\n",
       "      <td>5.33</td>\n",
       "      <td>36.2</td>\n",
       "      <td>between 35 and 70</td>\n",
       "    </tr>\n",
       "  </tbody>\n",
       "</table>\n",
       "</div>"
      ],
      "text/plain": [
       "   Unnamed: 0     CRIM    ZN  INDUS CHAS    NOX     RM   AGE     DIS  RAD  \\\n",
       "0           0  0.00632  18.0   2.31  yes  0.538  6.575  65.2  4.0900  1.0   \n",
       "1           1  0.02731   0.0   7.07  yes  0.469  6.421  78.9  4.9671  2.0   \n",
       "2           2  0.02729   0.0   7.07  yes  0.469  7.185  61.1  4.9671  2.0   \n",
       "3           3  0.03237   0.0   2.18  yes  0.458  6.998  45.8  6.0622  3.0   \n",
       "4           4  0.06905   0.0   2.18  yes  0.458  7.147  54.2  6.0622  3.0   \n",
       "\n",
       "     TAX  PTRATIO  LSTAT  MEDV          age_group  \n",
       "0  296.0     15.3   4.98  24.0  between 35 and 70  \n",
       "1  242.0     17.8   9.14  21.6       70 and older  \n",
       "2  242.0     17.8   4.03  34.7  between 35 and 70  \n",
       "3  222.0     18.7   2.94  33.4  between 35 and 70  \n",
       "4  222.0     18.7   5.33  36.2  between 35 and 70  "
      ]
     },
     "execution_count": 40,
     "metadata": {},
     "output_type": "execute_result"
    }
   ],
   "source": [
    "boston_df.loc[(boston_df['AGE'] <= 35), 'age_group'] = '35 and younger'\n",
    "boston_df.loc[(boston_df['AGE'] > 35)&(boston_df['AGE'] <70), 'age_group'] = 'between 35 and 70'\n",
    "boston_df.loc[(boston_df['AGE'] >= 70), 'age_group'] = '70 and older'\n",
    "boston_df.head()"
   ]
  },
  {
   "cell_type": "code",
   "execution_count": 41,
   "id": "c01cf0c2-0ed3-44e0-8ee8-d9653cd8e98b",
   "metadata": {
    "hide_input": true
   },
   "outputs": [
    {
     "data": {
      "text/plain": [
       "Text(0, 0.5, '')"
      ]
     },
     "execution_count": 41,
     "metadata": {},
     "output_type": "execute_result"
    },
    {
     "data": {
      "image/png": "[encoded data removed]",
      "text/plain": [
       "<Figure size 640x480 with 1 Axes>"
      ]
     },
     "metadata": {},
     "output_type": "display_data"
    }
   ],
   "source": [
    "boxplot02 = sns.boxplot(y ='age_group',\n",
    "                       x ='MEDV',\n",
    "                        color = 'royalblue',\n",
    "                       data =boston_df)\n",
    "boxplot02.set_title('Boxplot of median value of owner-occupied homes with Age group')\n",
    "boxplot02.set_xlabel('Median value of owner-occupied homes (in $1000)')\n",
    "boxplot02.set_ylabel('')"
   ]
  },
  {
   "cell_type": "markdown",
   "id": "aed086fe-e48a-4787-8ed9-2dddf1d1d49b",
   "metadata": {},
   "source": [
    "### Scatter plot of Netric Oxides concentration with the proportion of non retail business acres"
   ]
  },
  {
   "cell_type": "code",
   "execution_count": 42,
   "id": "e45dc214-f5cb-413c-b5fe-aa13e059522a",
   "metadata": {
    "hide_input": true
   },
   "outputs": [
    {
     "data": {
      "text/plain": [
       "Text(0, 0.5, 'non retail business acres')"
      ]
     },
     "execution_count": 42,
     "metadata": {},
     "output_type": "execute_result"
    },
    {
     "data": {
      "image/png": "[encoded data removed]",
      "text/plain": [
       "<Figure size 640x480 with 1 Axes>"
      ]
     },
     "metadata": {},
     "output_type": "display_data"
    }
   ],
   "source": [
    "sctrplt01 = sns.scatterplot(x = 'NOX',\n",
    "                            y = 'INDUS',\n",
    "                            color = 'royalblue',\n",
    "                            data = boston_df)\n",
    "sctrplt01.set_title('scatterplot of Netric Oxides concentration with proportion of non retail business acres')\n",
    "sctrplt01.set_xlabel('Netric Oxides concentration')\n",
    "sctrplt01.set_ylabel('non retail business acres')"
   ]
  },
  {
   "cell_type": "markdown",
   "id": "2ad898de-4a72-4666-85e8-d3661ba72d69",
   "metadata": {},
   "source": [
    "- the scatter plot shows a positive linear relation between (NO) netric oxides concentraion and non retail business acres, meaning the less (NO) concentraion in an area the less we have non retail business acres in a town."
   ]
  },
  {
   "cell_type": "markdown",
   "id": "8a41daff-bbd3-4586-8422-efbe27a515fd",
   "metadata": {},
   "source": [
    "### Histogram of Pupil-Teacher ratio by town"
   ]
  },
  {
   "cell_type": "code",
   "execution_count": 43,
   "id": "bca73639-f9b9-43c1-9b2c-a30cef5b78fa",
   "metadata": {
    "hide_input": true
   },
   "outputs": [
    {
     "data": {
      "text/plain": [
       "Text(0.5, 1.0, 'the distribution of Pupil-Teacher ratio by town')"
      ]
     },
     "execution_count": 43,
     "metadata": {},
     "output_type": "execute_result"
    },
    {
     "data": {
      "image/png": "[encoded data removed]",
      "text/plain": [
       "<Figure size 640x480 with 1 Axes>"
      ]
     },
     "metadata": {},
     "output_type": "display_data"
    }
   ],
   "source": [
    "histogram01 = sns.histplot(boston_df['PTRATIO'], color = 'royalblue')\n",
    "histogram01.set_title('the distribution of Pupil-Teacher ratio by town')"
   ]
  },
  {
   "cell_type": "markdown",
   "id": "f54070cc-86d1-4051-b529-e5cd387c47b6",
   "metadata": {},
   "source": [
    "- The distibution suggest a mode near near 20 which could be a standard or a policy benchmar in the region. Also x-axis ranges from 13 to 22 meaning the pupil-teacher vary across towns but not drastically, the narrow range implies low variablity, suggesting that most towns follow similar staffing levels in schools.\n",
    "- Is 20 is most common PTRATIO, it might reflect a policy target or funding constraint. Towns significantly above this ratio might be experiencing teacher shortages, while those below might be overstaffed or better funded."
   ]
  },
  {
   "cell_type": "markdown",
   "id": "d16e8090-f35a-4193-9df1-d3044d15b6f4",
   "metadata": {},
   "source": [
    "<h2 class=\"anchor\" id=\"forth-bullet\"><a>Tests and Hypothesis</a></h2>"
   ]
  },
  {
   "cell_type": "markdown",
   "id": "93e310cc-5b51-4f64-8290-7e40bdf28e4b",
   "metadata": {},
   "source": [
    "## Questions :<br>\n",
    "\n",
    "through the dataset we will answer four questions using statistic tools:\n",
    "1. comparing Median value of houses bounded by the charles river\n",
    "2. the difference in median values of houses for each proportion of owner occupied units built prior to 1940\n",
    "3. Relationship between Netric Oxide concentrations and the proportion of non retail business acres per town\n",
    "4. the impact of additional weighted distancse of the five Boston employment centers on the median value of owner occupied homes"
   ]
  },
  {
   "cell_type": "markdown",
   "id": "e71789d8-60d3-4a14-b676-c0060e517cb3",
   "metadata": {},
   "source": [
    "### I. Comparing Median value of houses bounded by the charles river"
   ]
  },
  {
   "cell_type": "markdown",
   "id": "cbf2cee2-886b-4a84-8908-1f99e0c02739",
   "metadata": {},
   "source": [
    "To see if there's a significant difference in median value of houses bounded by Charles River **we will be using T test** for independent samples.<br>\n",
    "**hypothesis**<br>\n",
    "Null Hypothesis   :   the median values are the same<br>\n",
    "Alternative Hypothesis   :   there's a difference in median values"
   ]
  },
  {
   "cell_type": "code",
   "execution_count": 44,
   "id": "4747dc46-24ba-4bf3-a8f4-a926a246fc73",
   "metadata": {},
   "outputs": [
    {
     "name": "stderr",
     "output_type": "stream",
     "text": [
      "C:\\Users\\PC GAMING\\AppData\\Local\\Temp\\ipykernel_15140\\4003199834.py:5: SmallSampleWarning: One or more sample arguments is too small; all returned values will be NaN. See documentation for sample size requirements.\n",
      "  levene = scipy.stats.levene(boston_df[boston_df['CHAS'] == 0]['MEDV'], boston_df[boston_df['CHAS'] == 1]['MEDV'], center ='mean')\n"
     ]
    },
    {
     "data": {
      "text/plain": [
       "LeveneResult(statistic=np.float64(nan), pvalue=np.float64(nan))"
      ]
     },
     "execution_count": 44,
     "metadata": {},
     "output_type": "execute_result"
    }
   ],
   "source": [
    "#Levene's test to asses the equality satndard deviation\n",
    "## H0 : the std is equal\n",
    "## Ha : std is not equal\n",
    "## alpha : 5%\n",
    "levene = scipy.stats.levene(boston_df[boston_df['CHAS'] == 0]['MEDV'], boston_df[boston_df['CHAS'] == 1]['MEDV'], center ='mean')\n",
    "levene\n",
    "## P-value is 0.003 < 0.05 therefore we will reject the null hypothesis as there is enough statistical evidence.  \n",
    "## the levene test will help us in the argument <equal_var>"
   ]
  },
  {
   "cell_type": "code",
   "execution_count": 45,
   "id": "cda7c8ac-2ae8-47d1-825c-134a4063736a",
   "metadata": {},
   "outputs": [
    {
     "name": "stderr",
     "output_type": "stream",
     "text": [
      "C:\\Users\\PC GAMING\\AppData\\Roaming\\Python\\Python313\\site-packages\\scipy\\_lib\\deprecation.py:234: SmallSampleWarning: One or more sample arguments is too small; all returned values will be NaN. See documentation for sample size requirements.\n",
      "  return f(*args, **kwargs)\n"
     ]
    },
    {
     "data": {
      "text/plain": [
       "TtestResult(statistic=np.float64(nan), pvalue=np.float64(nan), df=np.float64(nan))"
      ]
     },
     "execution_count": 45,
     "metadata": {},
     "output_type": "execute_result"
    }
   ],
   "source": [
    "chas_0medv = boston_df[boston_df['CHAS'] == 0]['MEDV']\n",
    "chas_1medv = boston_df[boston_df['CHAS'] == 1]['MEDV']\n",
    "T_test = scipy.stats.ttest_ind(chas_0medv,\n",
    "                               chas_1medv,\n",
    "                               equal_var = False)\n",
    "T_test"
   ]
  },
  {
   "cell_type": "markdown",
   "id": "ea27489f-c57c-4bfa-8b13-242535f46dca",
   "metadata": {},
   "source": [
    "P-value equals 0.003 <0.05 therefore we will reject the null hypothesis in favor of the alternative hypothesis."
   ]
  },
  {
   "cell_type": "markdown",
   "id": "91414055-ff52-4d5f-8389-12cf0cef64c8",
   "metadata": {},
   "source": [
    "### II. The difference in median values of houses for each proportion of owner occupied units built prior to 1940"
   ]
  },
  {
   "cell_type": "markdown",
   "id": "ab12b8ee-449f-464d-b4cd-b9c1f8a8efde",
   "metadata": {},
   "source": [
    "Using **ANOVA** to see the difference in median values of houses for each proportion of owner occupied units built prior to 1940.<br>\n",
    "**hypothesis**<br>\n",
    "Null Hypothesis   :   Median values are the same<br>\n",
    "Alternative Hypothesis   :   Median values are not the same"
   ]
  },
  {
   "cell_type": "code",
   "execution_count": 46,
   "id": "c0d870ad-151f-45b0-838b-d1d3d74696b7",
   "metadata": {},
   "outputs": [
    {
     "name": "stdout",
     "output_type": "stream",
     "text": [
      "F statistic: 36.40764999196599, P-value: 1.7105011022702984e-15\n"
     ]
    }
   ],
   "source": [
    "boston_df['age_group']\n",
    "boston_df['MEDV']\n",
    "thirtyfive_younger = boston_df[boston_df['age_group'] == '35 and younger']['MEDV']\n",
    "thirtyfive_seventy = boston_df[boston_df['age_group'] == 'between 35 and 70']['MEDV']\n",
    "seventy_older = boston_df[boston_df['age_group'] == '70 and older']['MEDV']\n",
    "f_statistic, p_value = scipy.stats.f_oneway(thirtyfive_younger, thirtyfive_seventy, seventy_older)\n",
    "print('F statistic: {0}, P-value: {1}'.format(f_statistic, p_value))"
   ]
  },
  {
   "cell_type": "markdown",
   "id": "5b190d42-1753-437d-a28e-77e8df7576a4",
   "metadata": {},
   "source": [
    "the null hypothesis that the median values of owner-occupied homes are the same across the three age groups is **rejected** based on the ANOVA results."
   ]
  },
  {
   "cell_type": "markdown",
   "id": "4c56eb3a-9624-4aea-8279-082ec3e9d1e0",
   "metadata": {},
   "source": [
    "### III. Relationship between Netric Oxide concentrations and the proportion of non retail business acres per town"
   ]
  },
  {
   "cell_type": "markdown",
   "id": "175d9709-64f2-4008-821e-0a867549e78d",
   "metadata": {},
   "source": [
    "Using Pearson correlation test to asses the relationship between (NO) Netric Oxide concentration and non retail business acres per town<br>\n",
    "**hypothesis**<br>\n",
    "Null Hypothesis   :   there's no relationship between (NOX) and (INDUS)<br>\n",
    "Alternative Hypothesis   :   there's a relationship between (NOX) and (INDUS)"
   ]
  },
  {
   "cell_type": "code",
   "execution_count": 47,
   "id": "8ffacc49-e48c-4749-a073-b09b7bf3a39e",
   "metadata": {},
   "outputs": [
    {
     "data": {
      "text/plain": [
       "PearsonRResult(statistic=np.float64(0.763651446920915), pvalue=np.float64(7.913361061241532e-98))"
      ]
     },
     "execution_count": 47,
     "metadata": {},
     "output_type": "execute_result"
    }
   ],
   "source": [
    "X = boston_df['NOX']\n",
    "Y = boston_df['INDUS']\n",
    "scipy.stats.pearsonr(Y, X)"
   ]
  },
  {
   "cell_type": "markdown",
   "id": "ec90655e-12ad-4981-a67a-8dffebf42405",
   "metadata": {},
   "source": [
    "- P-value 7.913361061241532 × 10⁻⁹⁸ is less than alpha 0.05 therefore we will reject the null hypothesis for enough evidence that there's a strong relationship between (NO) Netric Oxide concentration and non retail business acres per town"
   ]
  },
  {
   "cell_type": "markdown",
   "id": "52594718-182d-4b5f-b61f-006171e98e1f",
   "metadata": {},
   "source": [
    "### IV. The impact of additional weighted distancse of the five Boston employment centers on the median value of owner occupied homes"
   ]
  },
  {
   "cell_type": "code",
   "execution_count": 48,
   "id": "84891bd4-84e2-42f5-b707-850e9a217fba",
   "metadata": {},
   "outputs": [
    {
     "data": {
      "text/html": [
       "<table class=\"simpletable\">\n",
       "<caption>OLS Regression Results</caption>\n",
       "<tr>\n",
       "  <th>Dep. Variable:</th>          <td>MEDV</td>       <th>  R-squared:         </th> <td>   0.062</td>\n",
       "</tr>\n",
       "<tr>\n",
       "  <th>Model:</th>                   <td>OLS</td>       <th>  Adj. R-squared:    </th> <td>   0.061</td>\n",
       "</tr>\n",
       "<tr>\n",
       "  <th>Method:</th>             <td>Least Squares</td>  <th>  F-statistic:       </th> <td>   33.58</td>\n",
       "</tr>\n",
       "<tr>\n",
       "  <th>Date:</th>             <td>Mon, 29 Sep 2025</td> <th>  Prob (F-statistic):</th> <td>1.21e-08</td>\n",
       "</tr>\n",
       "<tr>\n",
       "  <th>Time:</th>                 <td>22:06:33</td>     <th>  Log-Likelihood:    </th> <td> -1823.9</td>\n",
       "</tr>\n",
       "<tr>\n",
       "  <th>No. Observations:</th>      <td>   506</td>      <th>  AIC:               </th> <td>   3652.</td>\n",
       "</tr>\n",
       "<tr>\n",
       "  <th>Df Residuals:</th>          <td>   504</td>      <th>  BIC:               </th> <td>   3660.</td>\n",
       "</tr>\n",
       "<tr>\n",
       "  <th>Df Model:</th>              <td>     1</td>      <th>                     </th>     <td> </td>   \n",
       "</tr>\n",
       "<tr>\n",
       "  <th>Covariance Type:</th>      <td>nonrobust</td>    <th>                     </th>     <td> </td>   \n",
       "</tr>\n",
       "</table>\n",
       "<table class=\"simpletable\">\n",
       "<tr>\n",
       "    <td></td>       <th>coef</th>     <th>std err</th>      <th>t</th>      <th>P>|t|</th>  <th>[0.025</th>    <th>0.975]</th>  \n",
       "</tr>\n",
       "<tr>\n",
       "  <th>const</th> <td>   18.3901</td> <td>    0.817</td> <td>   22.499</td> <td> 0.000</td> <td>   16.784</td> <td>   19.996</td>\n",
       "</tr>\n",
       "<tr>\n",
       "  <th>DIS</th>   <td>    1.0916</td> <td>    0.188</td> <td>    5.795</td> <td> 0.000</td> <td>    0.722</td> <td>    1.462</td>\n",
       "</tr>\n",
       "</table>\n",
       "<table class=\"simpletable\">\n",
       "<tr>\n",
       "  <th>Omnibus:</th>       <td>139.779</td> <th>  Durbin-Watson:     </th> <td>   0.570</td>\n",
       "</tr>\n",
       "<tr>\n",
       "  <th>Prob(Omnibus):</th> <td> 0.000</td>  <th>  Jarque-Bera (JB):  </th> <td> 305.104</td>\n",
       "</tr>\n",
       "<tr>\n",
       "  <th>Skew:</th>          <td> 1.466</td>  <th>  Prob(JB):          </th> <td>5.59e-67</td>\n",
       "</tr>\n",
       "<tr>\n",
       "  <th>Kurtosis:</th>      <td> 5.424</td>  <th>  Cond. No.          </th> <td>    9.32</td>\n",
       "</tr>\n",
       "</table><br/><br/>Notes:<br/>[1] Standard Errors assume that the covariance matrix of the errors is correctly specified."
      ],
      "text/latex": [
       "\\begin{center}\n",
       "\\begin{tabular}{lclc}\n",
       "\\toprule\n",
       "\\textbf{Dep. Variable:}    &       MEDV       & \\textbf{  R-squared:         } &     0.062   \\\\\n",
       "\\textbf{Model:}            &       OLS        & \\textbf{  Adj. R-squared:    } &     0.061   \\\\\n",
       "\\textbf{Method:}           &  Least Squares   & \\textbf{  F-statistic:       } &     33.58   \\\\\n",
       "\\textbf{Date:}             & Mon, 29 Sep 2025 & \\textbf{  Prob (F-statistic):} &  1.21e-08   \\\\\n",
       "\\textbf{Time:}             &     22:06:33     & \\textbf{  Log-Likelihood:    } &   -1823.9   \\\\\n",
       "\\textbf{No. Observations:} &         506      & \\textbf{  AIC:               } &     3652.   \\\\\n",
       "\\textbf{Df Residuals:}     &         504      & \\textbf{  BIC:               } &     3660.   \\\\\n",
       "\\textbf{Df Model:}         &           1      & \\textbf{                     } &             \\\\\n",
       "\\textbf{Covariance Type:}  &    nonrobust     & \\textbf{                     } &             \\\\\n",
       "\\bottomrule\n",
       "\\end{tabular}\n",
       "\\begin{tabular}{lcccccc}\n",
       "               & \\textbf{coef} & \\textbf{std err} & \\textbf{t} & \\textbf{P$> |$t$|$} & \\textbf{[0.025} & \\textbf{0.975]}  \\\\\n",
       "\\midrule\n",
       "\\textbf{const} &      18.3901  &        0.817     &    22.499  &         0.000        &       16.784    &       19.996     \\\\\n",
       "\\textbf{DIS}   &       1.0916  &        0.188     &     5.795  &         0.000        &        0.722    &        1.462     \\\\\n",
       "\\bottomrule\n",
       "\\end{tabular}\n",
       "\\begin{tabular}{lclc}\n",
       "\\textbf{Omnibus:}       & 139.779 & \\textbf{  Durbin-Watson:     } &    0.570  \\\\\n",
       "\\textbf{Prob(Omnibus):} &   0.000 & \\textbf{  Jarque-Bera (JB):  } &  305.104  \\\\\n",
       "\\textbf{Skew:}          &   1.466 & \\textbf{  Prob(JB):          } & 5.59e-67  \\\\\n",
       "\\textbf{Kurtosis:}      &   5.424 & \\textbf{  Cond. No.          } &     9.32  \\\\\n",
       "\\bottomrule\n",
       "\\end{tabular}\n",
       "%\\caption{OLS Regression Results}\n",
       "\\end{center}\n",
       "\n",
       "Notes: \\newline\n",
       " [1] Standard Errors assume that the covariance matrix of the errors is correctly specified."
      ],
      "text/plain": [
       "<class 'statsmodels.iolib.summary.Summary'>\n",
       "\"\"\"\n",
       "                            OLS Regression Results                            \n",
       "==============================================================================\n",
       "Dep. Variable:                   MEDV   R-squared:                       0.062\n",
       "Model:                            OLS   Adj. R-squared:                  0.061\n",
       "Method:                 Least Squares   F-statistic:                     33.58\n",
       "Date:                Mon, 29 Sep 2025   Prob (F-statistic):           1.21e-08\n",
       "Time:                        22:06:33   Log-Likelihood:                -1823.9\n",
       "No. Observations:                 506   AIC:                             3652.\n",
       "Df Residuals:                     504   BIC:                             3660.\n",
       "Df Model:                           1                                         \n",
       "Covariance Type:            nonrobust                                         \n",
       "==============================================================================\n",
       "                 coef    std err          t      P>|t|      [0.025      0.975]\n",
       "------------------------------------------------------------------------------\n",
       "const         18.3901      0.817     22.499      0.000      16.784      19.996\n",
       "DIS            1.0916      0.188      5.795      0.000       0.722       1.462\n",
       "==============================================================================\n",
       "Omnibus:                      139.779   Durbin-Watson:                   0.570\n",
       "Prob(Omnibus):                  0.000   Jarque-Bera (JB):              305.104\n",
       "Skew:                           1.466   Prob(JB):                     5.59e-67\n",
       "Kurtosis:                       5.424   Cond. No.                         9.32\n",
       "==============================================================================\n",
       "\n",
       "Notes:\n",
       "[1] Standard Errors assume that the covariance matrix of the errors is correctly specified.\n",
       "\"\"\""
      ]
     },
     "execution_count": 48,
     "metadata": {},
     "output_type": "execute_result"
    }
   ],
   "source": [
    "x = boston_df['DIS']\n",
    "x = sm.add_constant(x)\n",
    "y = boston_df['MEDV']\n",
    "model = sm.OLS(y, x).fit()\n",
    "predictions = model.predict()\n",
    "model.summary()"
   ]
  },
  {
   "cell_type": "markdown",
   "id": "38b7ecd6-6fdc-47f0-b253-57fed7613fa2",
   "metadata": {},
   "source": [
    "- The regression analysis reveals a statistically significant positive relationship between the weighted distance to Boston’s five employment centers (DIS) and the median value of owner-occupied homes (MEDV). Specifically, for every unit increase in distance, the median home value increases by approximately $1,091.60, suggesting that homes farther from employment hubs tend to be more expensive. However, the model explains only about 6.2% of the variance in home values (R² = 0.062), indicating that while the relationship is significant, many other factors influence housing prices. The residuals show signs of non-normality and autocorrelation (e.g., high skewness and low Durbin-Watson), which may affect the reliability of the estimates and suggest the need for a more complex model."
   ]
  },
  {
   "cell_type": "markdown",
   "id": "cbdadfc6-2915-4f09-8472-1fdaea45796e",
   "metadata": {},
   "source": [
    "<h2 class=\"anchor\" id=\"fifth-bullet\" style=\"text-align: center;\"><a>Conclusions :</a></h2>"
   ]
  },
  {
   "cell_type": "markdown",
   "id": "222702d2",
   "metadata": {},
   "source": [
    "\n",
    "This analysis of the Boston Housing dataset provided valuable insights into the factors influencing housing prices.  \n",
    "Key findings include:  \n",
    "\n",
    "- **Strong correlation with socioeconomic factors**: Median home values are negatively impacted by the percentage of lower status populations and positively influenced by average number of rooms.  \n",
    "- **Environmental and infrastructure variables**: Proximity to employment centers, crime rates, and nitric oxide concentration also play significant roles in price determination.  \n",
    "- **Model performance**: Regression models demonstrated the ability to capture these relationships, with [insert R²/accuracy value] showing that the predictors explain a substantial portion of price variability.  \n",
    "\n",
    "Overall, this project highlights how statistical analysis and machine learning can be leveraged to better understand housing markets.  \n",
    "In practice, such insights can support policymakers, urban planners, and real estate stakeholders in making data-driven decisions.  \n",
    "Future work could involve testing more advanced models (e.g., Random Forest, Gradient Boosting) and integrating additional datasets (e.g., demographics, economic indicators) for improved predictive accuracy.\n"
   ]
  }
 ],
 "metadata": {
  "kernelspec": {
   "display_name": "Python 3 (ipykernel)",
   "language": "python",
   "name": "python3"
  },
  "language_info": {
   "codemirror_mode": {
    "name": "ipython",
    "version": 3
   },
   "file_extension": ".py",
   "mimetype": "text/x-python",
   "name": "python",
   "nbconvert_exporter": "python",
   "pygments_lexer": "ipython3",
   "version": "3.13.7"
  }
 },
 "nbformat": 4,
 "nbformat_minor": 5
}
